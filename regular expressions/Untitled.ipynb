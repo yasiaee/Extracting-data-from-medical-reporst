{
 "cells": [
  {
   "cell_type": "code",
   "execution_count": 10,
   "id": "030afa3b",
   "metadata": {},
   "outputs": [],
   "source": [
    "import re"
   ]
  },
  {
   "cell_type": "code",
   "execution_count": 11,
   "id": "5a1479c5",
   "metadata": {},
   "outputs": [
    {
     "data": {
      "text/plain": [
       "['732111999', '120']"
      ]
     },
     "execution_count": 11,
     "metadata": {},
     "output_type": "execute_result"
    }
   ],
   "source": [
    "text = \"patient's phone is 732111999. Bill amount is 120$\"\n",
    "\n",
    "pattern = '\\d+'\n",
    "\n",
    "match = re.findall(pattern, text)\n",
    "\n",
    "\n",
    "\n",
    "match\n"
   ]
  },
  {
   "cell_type": "markdown",
   "id": "28508fff",
   "metadata": {},
   "source": [
    "Extract only phone number. phone number is always 10 digits."
   ]
  },
  {
   "cell_type": "code",
   "execution_count": 14,
   "id": "2a5ca310",
   "metadata": {},
   "outputs": [
    {
     "data": {
      "text/plain": [
       "['7321119999']"
      ]
     },
     "execution_count": 14,
     "metadata": {},
     "output_type": "execute_result"
    }
   ],
   "source": [
    "text = \"patient's phone is 7321119999. Bill amount is 120$\"\n",
    "\n",
    "pattern = '\\d{10}'\n",
    "\n",
    "match = re.findall(pattern, text)\n",
    "\n",
    "\n",
    "match"
   ]
  },
  {
   "cell_type": "markdown",
   "id": "7700f723",
   "metadata": {},
   "source": [
    "Extract phone number, which is either 10 cintinuous digits or follows this format (xxx)-xxx-xxxx"
   ]
  },
  {
   "cell_type": "code",
   "execution_count": 19,
   "id": "c33669e3",
   "metadata": {},
   "outputs": [
    {
     "data": {
      "text/plain": [
       "['(732)-111-9999', '7326664444']"
      ]
     },
     "execution_count": 19,
     "metadata": {},
     "output_type": "execute_result"
    }
   ],
   "source": [
    "text =\"patient's phone is (732)-111-9999, spouse phone number 7326664444. Bill amount is 120$\"\n",
    "\n",
    "pattern = '\\(\\d{3}\\)-\\d{3}-\\d{4}|\\d{10}'\n",
    "\n",
    "match = re.findall(pattern, text)\n",
    "\n",
    "\n",
    "match\n",
    "\n"
   ]
  },
  {
   "cell_type": "code",
   "execution_count": null,
   "id": "9907c87f",
   "metadata": {},
   "outputs": [],
   "source": [
    "(\\d{10})|(\\d+)\\$"
   ]
  },
  {
   "cell_type": "code",
   "execution_count": 23,
   "id": "08abe221",
   "metadata": {},
   "outputs": [
    {
     "data": {
      "text/plain": [
       "('7321119999', '120')"
      ]
     },
     "execution_count": 23,
     "metadata": {},
     "output_type": "execute_result"
    }
   ],
   "source": [
    "text = \"patient's phone is 7321119999. Bill amount is 120$\"\n",
    "\n",
    "pattern = '(\\d{10})\\D+(\\d+)\\$'\n",
    "\n",
    "match = re.search(pattern, text)\n",
    "\n",
    "\n",
    "match.groups()"
   ]
  },
  {
   "cell_type": "code",
   "execution_count": 24,
   "id": "afcdb6d9",
   "metadata": {},
   "outputs": [],
   "source": [
    "phone_number, bill_amount = match.groups()"
   ]
  },
  {
   "cell_type": "markdown",
   "id": "7d733b42",
   "metadata": {},
   "source": [
    "Exercises:"
   ]
  },
  {
   "cell_type": "code",
   "execution_count": 40,
   "id": "8a4f1e14",
   "metadata": {},
   "outputs": [],
   "source": [
    "text = \"\"\"Directions:\n",
    "Prednisone, Taper 5 mg every 3 days, \n",
    "Finish in 2.5 weeks a Lialda - take 2 pills everyday for 1 month\n",
    "Refill: 2 times\"\"\""
   ]
  },
  {
   "cell_type": "code",
   "execution_count": 44,
   "id": "26c93d1d",
   "metadata": {},
   "outputs": [
    {
     "ename": "IndexError",
     "evalue": "list index out of range",
     "output_type": "error",
     "traceback": [
      "\u001b[1;31m---------------------------------------------------------------------------\u001b[0m",
      "\u001b[1;31mIndexError\u001b[0m                                Traceback (most recent call last)",
      "\u001b[1;32m<ipython-input-44-3eb80548afa7>\u001b[0m in \u001b[0;36m<module>\u001b[1;34m\u001b[0m\n\u001b[0;32m      2\u001b[0m \u001b[1;33m\u001b[0m\u001b[0m\n\u001b[0;32m      3\u001b[0m \u001b[0mmatch\u001b[0m \u001b[1;33m=\u001b[0m \u001b[0mre\u001b[0m\u001b[1;33m.\u001b[0m\u001b[0mfindall\u001b[0m\u001b[1;33m(\u001b[0m\u001b[0mpattern\u001b[0m\u001b[1;33m,\u001b[0m \u001b[0mtext\u001b[0m\u001b[1;33m)\u001b[0m\u001b[1;33m\u001b[0m\u001b[1;33m\u001b[0m\u001b[0m\n\u001b[1;32m----> 4\u001b[1;33m \u001b[0mmatch\u001b[0m\u001b[1;33m[\u001b[0m\u001b[1;36m0\u001b[0m\u001b[1;33m]\u001b[0m\u001b[1;33m.\u001b[0m\u001b[0mstrip\u001b[0m\u001b[1;33m(\u001b[0m\u001b[1;33m)\u001b[0m\u001b[1;33m\u001b[0m\u001b[1;33m\u001b[0m\u001b[0m\n\u001b[0m",
      "\u001b[1;31mIndexError\u001b[0m: list index out of range"
     ]
    }
   ],
   "source": [
    "pattern = 'Directions:(.*)Refill'\n",
    "\n",
    "match = re.findall(pattern, text)\n",
    "match[0].strip()"
   ]
  },
  {
   "cell_type": "code",
   "execution_count": null,
   "id": "ebc8644f",
   "metadata": {},
   "outputs": [],
   "source": []
  }
 ],
 "metadata": {
  "kernelspec": {
   "display_name": "Python 3",
   "language": "python",
   "name": "python3"
  },
  "language_info": {
   "codemirror_mode": {
    "name": "ipython",
    "version": 3
   },
   "file_extension": ".py",
   "mimetype": "text/x-python",
   "name": "python",
   "nbconvert_exporter": "python",
   "pygments_lexer": "ipython3",
   "version": "3.8.8"
  }
 },
 "nbformat": 4,
 "nbformat_minor": 5
}
